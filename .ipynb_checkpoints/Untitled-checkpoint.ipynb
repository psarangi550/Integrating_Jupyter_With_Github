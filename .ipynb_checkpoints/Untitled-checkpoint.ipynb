{
 "cells": [
  {
   "cell_type": "code",
   "execution_count": 2,
   "id": "ca26044c-4cc0-4287-8c5f-bd7221e0a3c0",
   "metadata": {},
   "outputs": [],
   "source": [
    "import argparse\n",
    "\n",
    "parser=argparse.ArgumentParser(description=\"This is a Command Line Argument to Perform Operation between the values\")\n",
    "\n",
    "parser.add_argument(\"num1\",help=\"Provide the First Number\", type=int)\n",
    "\n",
    "parser.add_argument(\"num2\",help=\"Provide the Second Number\", type=int)\n",
    "\n",
    "parser.add_argument(\"operation\", help=\"Provide the Operation\")\n",
    "\n",
    "args=parser.parse_args()\n",
    "\n",
    "print(args)"
   ]
  }
 ],
 "metadata": {
  "kernelspec": {
   "display_name": "Python 3 (ipykernel)",
   "language": "python",
   "name": "python3"
  },
  "language_info": {
   "codemirror_mode": {
    "name": "ipython",
    "version": 3
   },
   "file_extension": ".py",
   "mimetype": "text/x-python",
   "name": "python",
   "nbconvert_exporter": "python",
   "pygments_lexer": "ipython3",
   "version": "3.7.12"
  }
 },
 "nbformat": 4,
 "nbformat_minor": 5
}
